{
 "cells": [
  {
   "cell_type": "markdown",
   "id": "d45818ee-9afd-46f2-90c6-da3c5de31581",
   "metadata": {},
   "source": [
    "(1)Write A Program To Accept Percentage From The User And Display The Grade According To The Folliwing Criteria."
   ]
  },
  {
   "cell_type": "code",
   "execution_count": 10,
   "id": "434bdd45-c91e-40ee-b5d5-87b8b8e9a201",
   "metadata": {},
   "outputs": [
    {
     "name": "stdin",
     "output_type": "stream",
     "text": [
      "Enter The Percentae: 11\n"
     ]
    },
    {
     "name": "stdout",
     "output_type": "stream",
     "text": [
      "Grade D\n"
     ]
    }
   ],
   "source": [
    "Percentage=float(input(\"Enter The Percentae:\"))\n",
    "\n",
    "if Percentage > 90 :\n",
    "    print(\"Grade A\")\n",
    "elif Percentage > 80 and Percentage <= 90 :\n",
    "    print(\"Grade B\")\n",
    "elif Percentage > 60 and Percentage <=80  :\n",
    "    print(\"Grade C\")\n",
    "else :\n",
    "    print(\"Grade D\")"
   ]
  },
  {
   "cell_type": "markdown",
   "id": "fa65ade8-d1ad-4239-8b20-443f8bb770d6",
   "metadata": {},
   "source": [
    "(2)Write A Program To Accept The Cost Price Of The Bike And Display The Road Tax To Be Paid According To The Following Criteria."
   ]
  },
  {
   "cell_type": "code",
   "execution_count": 17,
   "id": "06729f44-baca-4b48-974f-923db994facb",
   "metadata": {},
   "outputs": [
    {
     "name": "stdin",
     "output_type": "stream",
     "text": [
      "Enter the Cost Price Of The bike: 50001\n"
     ]
    },
    {
     "name": "stdout",
     "output_type": "stream",
     "text": [
      "The Road Tax Is 10 %\n"
     ]
    }
   ],
   "source": [
    "Price=int(input(\"Enter the Cost Price Of The bike:\"))\n",
    "\n",
    "if Price > 100000 :\n",
    "    print(\"The Road Tax Is 15 %\")\n",
    "elif Price > 50000 and Price <= 100000 :\n",
    "    print(\"The Road Tax Is 10 %\")\n",
    "else :\n",
    "    print(\"The Road Tax Is 5 %\")"
   ]
  },
  {
   "cell_type": "markdown",
   "id": "12301bb1-1001-4f0c-aa9f-2f1317dcf4bf",
   "metadata": {},
   "source": [
    "(3)Accept The City From The User And Display Monuments Of That City."
   ]
  },
  {
   "cell_type": "code",
   "execution_count": 20,
   "id": "90f2af16-9b28-4a76-bf49-3fdf6e13d333",
   "metadata": {},
   "outputs": [
    {
     "name": "stdin",
     "output_type": "stream",
     "text": [
      "Enter The Name Of The City: Jaipur\n"
     ]
    },
    {
     "name": "stdout",
     "output_type": "stream",
     "text": [
      "The Monument Of The Jaipur Is Jal Mahal\n"
     ]
    }
   ],
   "source": [
    "City=input(\"Enter The Name Of The City:\")\n",
    "\n",
    "if City == \"Delhi\" :\n",
    "    print(\"The Monument Of The Delhi Is Red Fort\")\n",
    "if City == \"Agra\" :\n",
    "    print(\"The Monument Of The Agra Is Taj Mahal\")\n",
    "if City == \"Jaipur\" :\n",
    "    print(\"The Monument Of The Jaipur Is Jal Mahal\")"
   ]
  },
  {
   "cell_type": "markdown",
   "id": "c2de4d78-11f6-49f8-815f-39d26eb75763",
   "metadata": {},
   "source": [
    "(4)Check How Many Times A Givan Number Can Be Divided By 3 Before It Is Less Than Or Equal To 10."
   ]
  },
  {
   "cell_type": "code",
   "execution_count": 23,
   "id": "b2f69e5a-a644-4414-94e3-ae9a23221368",
   "metadata": {},
   "outputs": [
    {
     "name": "stdin",
     "output_type": "stream",
     "text": [
      "Enter The Number: 270\n"
     ]
    },
    {
     "name": "stdout",
     "output_type": "stream",
     "text": [
      "The Number Divisible Before Is Less Or Equal To 10 Is : 3\n"
     ]
    }
   ],
   "source": [
    "Number=int(input(\"Enter The Number:\"))\n",
    "\n",
    "Count = 0\n",
    "while Number > 10 :\n",
    "    Number=Number/3\n",
    "    Count=Count + 1\n",
    "print(\"The Number Divisible Before Is Less Or Equal To 10 Is :\",Count)"
   ]
  },
  {
   "cell_type": "markdown",
   "id": "490ee80b-f5aa-4737-b078-5cb467e358e5",
   "metadata": {},
   "source": [
    "(4)Why And When To Use While Loop In Python Give A Detaild Discription With An Example."
   ]
  },
  {
   "cell_type": "markdown",
   "id": "77988ccf-f7b7-48d3-86a2-2b1e055ec280",
   "metadata": {},
   "source": [
    "Answer:The While Loop In The Python Is Used When The Specific Block Of Code Is Run Until A Certain Condition Is Met. While Loop Is Use When How Many Times A Code Is Run IS Unknown. "
   ]
  },
  {
   "cell_type": "code",
   "execution_count": null,
   "id": "9287126d-0088-4b88-bbe8-43572440585a",
   "metadata": {},
   "outputs": [],
   "source": [
    "n=int(input(\"Enter The Value Of N:\"))\n",
    "while n>10 :\n",
    "    print(n)\n",
    "    n=n/3\n"
   ]
  },
  {
   "cell_type": "markdown",
   "id": "a7738199-153d-418b-b9e2-0cef7e420b1a",
   "metadata": {},
   "source": [
    "In The Above Example How Many Times A \"n\" Is Divided By 3 Is Unknown So In This Code While Loop Is Used."
   ]
  },
  {
   "cell_type": "markdown",
   "id": "d45cd8ff-484e-4862-8d45-b0fd1ba35b12",
   "metadata": {},
   "source": [
    "(6) Use Nested While Loop To Print 3 Diffrent Pattern.\n"
   ]
  },
  {
   "cell_type": "markdown",
   "id": "66604baf-4d0b-4b99-9d36-06427abced8c",
   "metadata": {},
   "source": [
    "Pattern :1"
   ]
  },
  {
   "cell_type": "code",
   "execution_count": 8,
   "id": "812b7d36-13be-46d0-be43-0c62efa3fe1d",
   "metadata": {},
   "outputs": [
    {
     "name": "stdout",
     "output_type": "stream",
     "text": [
      "*****\n",
      "*****\n",
      "*****\n",
      "*****\n",
      "*****\n",
      "*****\n"
     ]
    }
   ],
   "source": [
    "n=0\n",
    "while n <=5 :    \n",
    "    print(5*\"*\")  \n",
    "    n=n+1"
   ]
  },
  {
   "cell_type": "code",
   "execution_count": 16,
   "id": "70add0d0-6842-4939-803f-0bccb7b7196a",
   "metadata": {},
   "outputs": [
    {
     "name": "stdout",
     "output_type": "stream",
     "text": [
      "\n",
      "*\n",
      "**\n",
      "***\n",
      "****\n",
      "*****\n"
     ]
    }
   ],
   "source": [
    "n=0\n",
    "while n <=5 :    \n",
    "    print(n*\"*\")  \n",
    "    n=n+1"
   ]
  },
  {
   "cell_type": "code",
   "execution_count": 4,
   "id": "7ce62a21-802b-4d21-84f6-17850d81880d",
   "metadata": {},
   "outputs": [
    {
     "name": "stdout",
     "output_type": "stream",
     "text": [
      "\n",
      "*\n",
      "**\n",
      "***\n",
      "****\n",
      "*****\n"
     ]
    }
   ],
   "source": [
    "n=0\n",
    "while n <=5 :    \n",
    "    print(n*\"*\")  \n",
    "    n=n+1"
   ]
  },
  {
   "cell_type": "markdown",
   "id": "ca58d325-c585-440b-8135-1b7c4802df43",
   "metadata": {},
   "source": [
    "(7)Reverse A While Loop To Display Number From 10 to 1."
   ]
  },
  {
   "cell_type": "code",
   "execution_count": 1,
   "id": "a2fff112-bf43-4317-bd01-8da14ae010ab",
   "metadata": {},
   "outputs": [
    {
     "name": "stdout",
     "output_type": "stream",
     "text": [
      "10\n",
      "9\n",
      "8\n",
      "7\n",
      "6\n",
      "5\n",
      "4\n",
      "3\n",
      "2\n",
      "1\n"
     ]
    }
   ],
   "source": [
    "n=10\n",
    "while n > 0 :\n",
    "    print(n)\n",
    "    n=n-1"
   ]
  },
  {
   "cell_type": "code",
   "execution_count": null,
   "id": "6e22f261-8b30-429b-9e8d-3f674231003c",
   "metadata": {},
   "outputs": [],
   "source": [
    "(8)Reverse A While Loop To Display Number From 10 to 1."
   ]
  },
  {
   "cell_type": "code",
   "execution_count": 2,
   "id": "0f77445f-304b-4982-91ac-e9eea05bfdd3",
   "metadata": {},
   "outputs": [
    {
     "name": "stdout",
     "output_type": "stream",
     "text": [
      "10\n",
      "9\n",
      "8\n",
      "7\n",
      "6\n",
      "5\n",
      "4\n",
      "3\n",
      "2\n",
      "1\n"
     ]
    }
   ],
   "source": [
    "n=10\n",
    "while n > 0 :\n",
    "    print(n)\n",
    "    n=n-1"
   ]
  },
  {
   "cell_type": "code",
   "execution_count": null,
   "id": "ef633ecc-1876-4d27-9c8a-13e5138a3ed0",
   "metadata": {},
   "outputs": [],
   "source": []
  }
 ],
 "metadata": {
  "kernelspec": {
   "display_name": "Python 3 (ipykernel)",
   "language": "python",
   "name": "python3"
  },
  "language_info": {
   "codemirror_mode": {
    "name": "ipython",
    "version": 3
   },
   "file_extension": ".py",
   "mimetype": "text/x-python",
   "name": "python",
   "nbconvert_exporter": "python",
   "pygments_lexer": "ipython3",
   "version": "3.10.8"
  }
 },
 "nbformat": 4,
 "nbformat_minor": 5
}
