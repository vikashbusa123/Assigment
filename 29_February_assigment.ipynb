{
 "cells": [
  {
   "cell_type": "markdown",
   "id": "0f5f8f4e-aea4-4060-9643-5cf846a53a63",
   "metadata": {},
   "source": [
    "(1)Who developed python proramming language?"
   ]
  },
  {
   "cell_type": "markdown",
   "id": "ca686790-8599-40e1-bb7c-128025eb3905",
   "metadata": {},
   "source": [
    "answer: A dutch programmer guido van rossum was developed python programing language in 1970.\n"
   ]
  },
  {
   "cell_type": "markdown",
   "id": "ecc9ee6f-fd89-4771-9d56-c22d9d7ab37c",
   "metadata": {},
   "source": [
    "\n",
    "(2)Which type of programming does Python support?"
   ]
  },
  {
   "cell_type": "markdown",
   "id": "1b144944-b8ba-4629-a717-f804f08f971b",
   "metadata": {},
   "source": [
    "Answer:python is an interpreted programing language which supporting object-oriented,structurae and functional programing.\n",
    "\n"
   ]
  },
  {
   "cell_type": "markdown",
   "id": "fe4621f7-c96d-47ad-aaf9-62ce0c0abb49",
   "metadata": {},
   "source": [
    "(3)Is python case sensitive when dealing with identifiers?"
   ]
  },
  {
   "cell_type": "markdown",
   "id": "14ef97ba-a8c4-4943-8403-96085515e14f",
   "metadata": {},
   "source": [
    "Answer: Yes,python is case sensitive when dealing with identifiers"
   ]
  },
  {
   "cell_type": "markdown",
   "id": "c79a7f00-46ea-4b02-9924-fb4b01e00696",
   "metadata": {},
   "source": [
    "(4)What is the correct extension of the python file?\n"
   ]
  },
  {
   "cell_type": "markdown",
   "id": "b5c41a94-b410-485c-8571-3c390321f982",
   "metadata": {},
   "source": [
    "Answer:.py is the extension of the python file."
   ]
  },
  {
   "cell_type": "markdown",
   "id": "5d6e5156-f920-4d18-92fe-ca167a3cfa2d",
   "metadata": {},
   "source": [
    "(5)is python code compiled or interpreted?"
   ]
  },
  {
   "cell_type": "markdown",
   "id": "2b348dc3-7a3b-425f-8384-3f9091815c39",
   "metadata": {},
   "source": [
    "Answer:Python is a interpreted language.Which means that The first python source code compiled into the bytecode and than it is executed by python virtual  machine."
   ]
  },
  {
   "cell_type": "markdown",
   "id": "af92a637-02c8-43ba-b0b8-a22cc1940bd8",
   "metadata": {},
   "source": [
    "(6)name a few block of code used to define in python language?"
   ]
  },
  {
   "cell_type": "markdown",
   "id": "ccfb6281-166b-47d8-b24d-1da20e963928",
   "metadata": {},
   "source": [
    "Answer:A module,a function body and the class defination are the block of code which are used to define in python language."
   ]
  },
  {
   "cell_type": "markdown",
   "id": "18843940-d7bc-4491-b400-f9d849a45e7a",
   "metadata": {},
   "source": [
    "(7)state a character used to give single-line comments in python?\n"
   ]
  },
  {
   "cell_type": "markdown",
   "id": "5b623285-e8e7-4bfa-ad26-20db24fb0ab7",
   "metadata": {},
   "source": [
    "Answer:In the python language we can write single line comment by using single # charactor."
   ]
  },
  {
   "cell_type": "markdown",
   "id": "a9cdfaa7-203a-4254-a96c-9bfe2684dac3",
   "metadata": {},
   "source": [
    "(8)Mension function which can helps us to find the version of python that we are currently working on?"
   ]
  },
  {
   "cell_type": "markdown",
   "id": "239e387f-29d3-4ba7-928c-40c45a5e504d",
   "metadata": {},
   "source": [
    "Answer:python_version function is use for find the version of python that we are currently working on."
   ]
  },
  {
   "cell_type": "markdown",
   "id": "124d7d8e-9cc1-4c0c-9d6c-69e60909f09d",
   "metadata": {},
   "source": [
    "(9)python support the creation of anonymous functions at run time using a  construct called ................lambda"
   ]
  },
  {
   "cell_type": "markdown",
   "id": "1bd02337-501a-42b0-9759-0303ac210d8c",
   "metadata": {},
   "source": [
    "(10)what does pip stand for python?"
   ]
  },
  {
   "cell_type": "markdown",
   "id": "e5d5bc7e-4890-405a-97f2-8c0470e5bf56",
   "metadata": {},
   "source": [
    "Answer:Most recent distribution of python which is come from pip preinstalled.python 2.7.9 and python 3.4 and later version include pip by default."
   ]
  },
  {
   "cell_type": "markdown",
   "id": "359bdbfd-2ab6-4c06-8425-60c79a223108",
   "metadata": {},
   "source": [
    "(11)Mention a few built-in function in python?\n"
   ]
  },
  {
   "cell_type": "markdown",
   "id": "6a0fd846-a2f3-47ef-a7db-b9b7ce23310b",
   "metadata": {},
   "source": [
    "Answer:The Following functions are few built-in function in python:\n"
   ]
  },
  {
   "cell_type": "markdown",
   "id": "2d23422c-0834-4df5-83a4-6e4ef91c3850",
   "metadata": {},
   "source": [
    "1.print()"
   ]
  },
  {
   "cell_type": "markdown",
   "id": "909e3ebf-d5f4-4122-86a9-e7de5946dc6b",
   "metadata": {},
   "source": [
    "2.input()\n"
   ]
  },
  {
   "cell_type": "markdown",
   "id": "914dd398-0e7e-4afc-b634-07b3cc307d96",
   "metadata": {},
   "source": [
    "3.len()"
   ]
  },
  {
   "cell_type": "markdown",
   "id": "77937243-0e17-4f86-bb49-7d3c9c5eb6d7",
   "metadata": {},
   "source": [
    "4.range()"
   ]
  },
  {
   "cell_type": "markdown",
   "id": "3633c0c2-c5b5-4713-9864-9a3c756f60b7",
   "metadata": {},
   "source": [
    "(12)what is the maximum possible length of an identifier in python?"
   ]
  },
  {
   "cell_type": "markdown",
   "id": "ed1ff6de-1a3e-451c-915f-e3d56191760f",
   "metadata": {},
   "source": [
    "Answer:The maximum possible length of an identifier in python is 79 characters."
   ]
  },
  {
   "cell_type": "markdown",
   "id": "6740c250-fbf3-4d81-8717-18ecbdde0ece",
   "metadata": {},
   "source": [
    "(13)what are the benifits of using python?"
   ]
  },
  {
   "cell_type": "markdown",
   "id": "3eebeef6-7567-45de-8e69-8a27f25a8d41",
   "metadata": {},
   "source": [
    "Answer:Python is a easier to understand,automate the such task like memory managementand other low-level computer, python is extensible,various python libraries and python community are the benifits of using python."
   ]
  },
  {
   "cell_type": "markdown",
   "id": "ea28f81f-4e09-492d-9358-cae37872779d",
   "metadata": {},
   "source": [
    "(14)how is memory managed in python?"
   ]
  },
  {
   "cell_type": "markdown",
   "id": "952d5d5a-ab84-4a1f-9430-55f7f4be6f7c",
   "metadata": {},
   "source": [
    "Answer:A memory management in python involver a private heap containing all python objects and data structures.the management of this private heap is ensured internally by python memoer manager."
   ]
  },
  {
   "cell_type": "markdown",
   "id": "0cb53a1e-f13a-4535-b756-b2c427bda6c2",
   "metadata": {},
   "source": [
    " (15)how to install python on windows and set path variables?"
   ]
  },
  {
   "cell_type": "markdown",
   "id": "45a342f4-d36a-4914-9a17-d30c9b414478",
   "metadata": {},
   "source": [
    "Answer:Install the python:"
   ]
  },
  {
   "cell_type": "markdown",
   "id": "e1ef856b-ab93-403e-abca-e26dcbc37ff7",
   "metadata": {},
   "source": [
    "Open browser to the python website and download the windows installer,double-click on the downloded file and install python for all users and ensure that python is added to your path.click on install now on begin."
   ]
  },
  {
   "cell_type": "markdown",
   "id": "5fdea230-1c61-43c9-ac39-542d733ff9e0",
   "metadata": {},
   "source": [
    "set a path:"
   ]
  },
  {
   "cell_type": "markdown",
   "id": "00cec6cf-5f20-420b-aa5d-3d9096be8f7c",
   "metadata": {},
   "source": [
    "The complete path of python.exe can be added by\n",
    "\n",
    "1.Right-clicking This PC and going to Properties.\n",
    "\n",
    "2.Clicking on the Advanced system settings in the menu on the left.\n",
    "\n",
    "3.Clicking on the Environment Variables button on the bottom right.\n",
    "\n",
    "4.In the System variables section, selecting the Path variable and clicking on Edit. The next screen will show all the directories that are currently a part of the PATH variable.\n",
    "\n",
    "5.Clicking on New and entering Python’s install directory.\n"
   ]
  },
  {
   "cell_type": "markdown",
   "id": "7d3a71aa-4da9-4e70-86d5-b3afeb2b5c9f",
   "metadata": {},
   "source": [
    "(16) is indentation required in python?"
   ]
  },
  {
   "cell_type": "markdown",
   "id": "7bc5608e-51a6-4b04-8a28-39367a11b8bb",
   "metadata": {},
   "source": [
    "Answer:Yes,indentation is required in python to indicates a block of code."
   ]
  },
  {
   "cell_type": "code",
   "execution_count": null,
   "id": "00098a5a-5107-4f19-aced-d73642b52ce7",
   "metadata": {},
   "outputs": [],
   "source": []
  }
 ],
 "metadata": {
  "kernelspec": {
   "display_name": "Python 3 (ipykernel)",
   "language": "python",
   "name": "python3"
  },
  "language_info": {
   "codemirror_mode": {
    "name": "ipython",
    "version": 3
   },
   "file_extension": ".py",
   "mimetype": "text/x-python",
   "name": "python",
   "nbconvert_exporter": "python",
   "pygments_lexer": "ipython3",
   "version": "3.10.8"
  }
 },
 "nbformat": 4,
 "nbformat_minor": 5
}
